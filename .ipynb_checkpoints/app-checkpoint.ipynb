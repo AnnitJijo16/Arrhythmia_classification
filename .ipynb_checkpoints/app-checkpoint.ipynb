{
 "cells": [
  {
   "cell_type": "code",
   "execution_count": 20,
   "id": "46118fb9",
   "metadata": {},
   "outputs": [],
   "source": [
    "from flask import Flask, render_template, request\n",
    "import pandas as pd\n",
    "import numpy as np\n",
    "import tensorflow.keras\n",
    "import wfdb\n",
    "import os\n",
    "from keras.models import load_model\n",
    "from sklearn.ensemble import RandomForestClassifier\n",
    "from sklearn.metrics import accuracy_score"
   ]
  },
  {
   "cell_type": "code",
   "execution_count": 21,
   "id": "a7230d27",
   "metadata": {},
   "outputs": [],
   "source": [
    "# Load the models\n",
    "cnn_model = load_model('best_model.h5')\n",
    "cnn_lstm_model = load_model('best_model_1.h5')\n",
    "rf_model = RandomForestClassifier(n_estimators=100, random_state=42)\n",
    "\n"
   ]
  },
  {
   "cell_type": "code",
   "execution_count": 22,
   "id": "4530c5ad",
   "metadata": {},
   "outputs": [],
   "source": [
    "# Load test data\n",
    "test_data = pd.read_csv('test_data.csv')"
   ]
  },
  {
   "cell_type": "code",
   "execution_count": null,
   "id": "b5040b80",
   "metadata": {},
   "outputs": [],
   "source": []
  },
  {
   "cell_type": "code",
   "execution_count": 37,
   "id": "dee9b6cf",
   "metadata": {},
   "outputs": [
    {
     "name": "stdout",
     "output_type": "stream",
     "text": [
      "        i      ii     iii     avr     avl     avf      v1      v2      v3  \\\n",
      "0 -0.0080 -0.0715 -0.0640  0.0400  0.0280 -0.0680  0.0210 -0.1250  0.1170   \n",
      "1  0.0175  0.1765  0.1580 -0.0965 -0.0700  0.1675 -0.0090  0.0200 -0.2015   \n",
      "2 -0.1415 -1.1100 -0.9685  0.6260  0.4135 -1.0395 -0.1770  0.3175  0.3985   \n",
      "3 -0.1545 -0.0840  0.0705  0.1190 -0.1125 -0.0070 -0.0410 -0.1365 -0.2170   \n",
      "4 -0.6675 -1.0250 -0.3575  0.8465 -0.1545 -0.6910 -0.1105 -0.4455 -1.0230   \n",
      "\n",
      "       v4      v5      v6      vx      vy      vz Participant  Label  \n",
      "0 -0.0010 -0.2065 -0.0925 -0.1070 -0.3840  0.0415  patient035      8  \n",
      "1 -0.1040  0.0420 -0.0085  0.0270  0.2595 -0.0015  patient035      8  \n",
      "2  1.8425  1.8055  1.1235 -0.0840  0.0085  0.0350  patient127      1  \n",
      "3 -0.2140 -0.1560 -0.0950 -0.1330 -0.0375  0.0335  patient143     14  \n",
      "4 -0.9990 -0.7385 -1.1850 -0.3435  0.0295 -0.1295  patient259      8  \n"
     ]
    }
   ],
   "source": [
    "print(test_data.head())\n"
   ]
  },
  {
   "cell_type": "code",
   "execution_count": 38,
   "id": "17be2376",
   "metadata": {},
   "outputs": [],
   "source": [
    "# Instantiate the Flask app\n",
    "app = Flask(__name__)\n",
    "\n",
    "@app.route('/')\n",
    "def index():\n",
    "    patients = test_data['Participant'].unique().tolist()\n",
    "    models = ['CNN', 'CNN-LSTM', 'Random Forest']  # Model names\n",
    "    return render_template('index.html', patients=patients, models=models)\n",
    "\n",
    "@app.route('/predict', methods=['POST'])\n",
    "def predict():\n",
    "    patient = request.form['patient']\n",
    "    model_name = request.form['model']\n",
    "    \n",
    "    # Filter test data for the selected patient\n",
    "    patient_data = test_data[test_data['Participant'] == patient].drop(['Participant', 'Label'], axis=1)\n",
    "    \n",
    "    if model_name == 'CNN':\n",
    "        # Preprocess data for CNN model\n",
    "        X = np.array(patient_data).reshape(len(patient_data), patient_data.shape[1], 1)\n",
    "        prediction_proba = cnn_model.predict(X)\n",
    "        prediction = np.argmax(prediction_proba, axis=1)\n",
    "    elif model_name == 'CNN-LSTM':\n",
    "        # Preprocess data for CNN-LSTM model\n",
    "        X = np.array(patient_data).reshape(len(patient_data), patient_data.shape[1], 1)\n",
    "        prediction_proba = cnn_lstm_model.predict(X)\n",
    "        prediction = np.argmax(prediction_proba, axis=1)\n",
    "    elif model_name == 'Random Forest':\n",
    "        # Define X_train and y_train\n",
    "        X_train = train_data.drop('Label', axis=1)  # Replace with your actual training data\n",
    "        y_train = train_data['Label']  # Replace with your actual training data\n",
    "        \n",
    "        # Fit the RandomForestClassifier\n",
    "        rf_model.fit(X_train, y_train)\n",
    "        \n",
    "        # Extract features using CNN model\n",
    "        intermediate_layer_model = tensorflow.keras.models.Model(inputs=cnn_model.input,\n",
    "                                                                 outputs=cnn_model.get_layer('dense_1').output)\n",
    "        features = intermediate_layer_model.predict(np.array(patient_data).reshape(len(patient_data), patient_data.shape[1], 1))\n",
    "        \n",
    "        # Predict using Random Forest model\n",
    "        prediction = rf_model.predict(features)\n",
    "    \n",
    "    prediction_class = prediction[0]  # Assuming prediction is a single value\n",
    "    \n",
    "    patients = test_data['Participant'].unique().tolist()\n",
    "    \n",
    "    return render_template('index.html', patients=patients, prediction=prediction_class, patient=patient, model=model_name)\n"
   ]
  },
  {
   "cell_type": "code",
   "execution_count": 39,
   "id": "2f7e660b",
   "metadata": {},
   "outputs": [
    {
     "name": "stdout",
     "output_type": "stream",
     "text": [
      " * Serving Flask app '__main__'\n",
      " * Debug mode: off\n"
     ]
    },
    {
     "name": "stderr",
     "output_type": "stream",
     "text": [
      "WARNING: This is a development server. Do not use it in a production deployment. Use a production WSGI server instead.\n",
      " * Running on http://127.0.0.1:5000\n",
      "Press CTRL+C to quit\n",
      "127.0.0.1 - - [14/Apr/2024 16:44:18] \"GET / HTTP/1.1\" 200 -\n"
     ]
    },
    {
     "name": "stdout",
     "output_type": "stream",
     "text": [
      "726/726 [==============================] - 3s 5ms/step\n"
     ]
    },
    {
     "name": "stderr",
     "output_type": "stream",
     "text": [
      "127.0.0.1 - - [14/Apr/2024 16:44:28] \"POST /predict HTTP/1.1\" 200 -\n"
     ]
    },
    {
     "name": "stdout",
     "output_type": "stream",
     "text": [
      "726/726 [==============================] - 3s 4ms/step\n"
     ]
    },
    {
     "name": "stderr",
     "output_type": "stream",
     "text": [
      "127.0.0.1 - - [14/Apr/2024 16:45:23] \"POST /predict HTTP/1.1\" 200 -\n"
     ]
    }
   ],
   "source": [
    "# Run the Flask app\n",
    "if __name__ == '__main__':\n",
    "    app.run()\n",
    "\n"
   ]
  },
  {
   "cell_type": "code",
   "execution_count": 10,
   "id": "0b557816",
   "metadata": {},
   "outputs": [
    {
     "name": "stdout",
     "output_type": "stream",
     "text": [
      "Model: \"model\"\n",
      "_________________________________________________________________\n",
      " Layer (type)                Output Shape              Param #   \n",
      "=================================================================\n",
      " inputs_cnn (InputLayer)     [(None, 15, 1)]           0         \n",
      "                                                                 \n",
      " conv1d (Conv1D)             (None, 13, 32)            128       \n",
      "                                                                 \n",
      " batch_normalization (Batch  (None, 13, 32)            128       \n",
      " Normalization)                                                  \n",
      "                                                                 \n",
      " max_pooling1d (MaxPooling1  (None, 7, 32)             0         \n",
      " D)                                                              \n",
      "                                                                 \n",
      " conv1d_1 (Conv1D)           (None, 5, 64)             6208      \n",
      "                                                                 \n",
      " batch_normalization_1 (Bat  (None, 5, 64)             256       \n",
      " chNormalization)                                                \n",
      "                                                                 \n",
      " max_pooling1d_1 (MaxPoolin  (None, 3, 64)             0         \n",
      " g1D)                                                            \n",
      "                                                                 \n",
      " conv1d_2 (Conv1D)           (None, 1, 128)            24704     \n",
      "                                                                 \n",
      " batch_normalization_2 (Bat  (None, 1, 128)            512       \n",
      " chNormalization)                                                \n",
      "                                                                 \n",
      " max_pooling1d_2 (MaxPoolin  (None, 1, 128)            0         \n",
      " g1D)                                                            \n",
      "                                                                 \n",
      " flatten (Flatten)           (None, 128)               0         \n",
      "                                                                 \n",
      " dense (Dense)               (None, 128)               16512     \n",
      "                                                                 \n",
      " dense_1 (Dense)             (None, 32)                4128      \n",
      "                                                                 \n",
      " main_output (Dense)         (None, 14)                462       \n",
      "                                                                 \n",
      "=================================================================\n",
      "Total params: 53038 (207.18 KB)\n",
      "Trainable params: 52590 (205.43 KB)\n",
      "Non-trainable params: 448 (1.75 KB)\n",
      "_________________________________________________________________\n",
      "None\n"
     ]
    }
   ],
   "source": [
    "print(cnn_model.summary())\n"
   ]
  },
  {
   "cell_type": "code",
   "execution_count": null,
   "id": "297ff394",
   "metadata": {},
   "outputs": [],
   "source": []
  }
 ],
 "metadata": {
  "kernelspec": {
   "display_name": "Python 3 (ipykernel)",
   "language": "python",
   "name": "python3"
  },
  "language_info": {
   "codemirror_mode": {
    "name": "ipython",
    "version": 3
   },
   "file_extension": ".py",
   "mimetype": "text/x-python",
   "name": "python",
   "nbconvert_exporter": "python",
   "pygments_lexer": "ipython3",
   "version": "3.11.5"
  }
 },
 "nbformat": 4,
 "nbformat_minor": 5
}
