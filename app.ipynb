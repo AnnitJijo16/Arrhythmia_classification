{
 "cells": [
  {
   "cell_type": "code",
   "execution_count": 1,
   "id": "46118fb9",
   "metadata": {},
   "outputs": [
    {
     "name": "stdout",
     "output_type": "stream",
     "text": [
      "WARNING:tensorflow:From C:\\Users\\annit\\anaconda3\\Lib\\site-packages\\keras\\src\\losses.py:2976: The name tf.losses.sparse_softmax_cross_entropy is deprecated. Please use tf.compat.v1.losses.sparse_softmax_cross_entropy instead.\n",
      "\n"
     ]
    }
   ],
   "source": [
    "from flask import Flask, render_template, request\n",
    "import pandas as pd\n",
    "import numpy as np\n",
    "import tensorflow.keras\n",
    "import wfdb\n",
    "import os\n",
    "from keras.models import load_model\n",
    "from sklearn.ensemble import RandomForestClassifier\n",
    "from sklearn.metrics import accuracy_score"
   ]
  },
  {
   "cell_type": "code",
   "execution_count": 2,
   "id": "a7230d27",
   "metadata": {},
   "outputs": [
    {
     "name": "stdout",
     "output_type": "stream",
     "text": [
      "WARNING:tensorflow:From C:\\Users\\annit\\anaconda3\\Lib\\site-packages\\keras\\src\\backend.py:1398: The name tf.executing_eagerly_outside_functions is deprecated. Please use tf.compat.v1.executing_eagerly_outside_functions instead.\n",
      "\n",
      "WARNING:tensorflow:From C:\\Users\\annit\\anaconda3\\Lib\\site-packages\\keras\\src\\backend.py:6642: The name tf.nn.max_pool is deprecated. Please use tf.nn.max_pool2d instead.\n",
      "\n"
     ]
    }
   ],
   "source": [
    "# Load the models\n",
    "cnn_model = load_model('best_model.h5')\n",
    "cnn_lstm_model = load_model('best_model_1.h5')\n",
    "\n"
   ]
  },
  {
   "cell_type": "code",
   "execution_count": 3,
   "id": "4530c5ad",
   "metadata": {},
   "outputs": [],
   "source": [
    "# Load test data\n",
    "test_data = pd.read_csv('test_data.csv')"
   ]
  },
  {
   "cell_type": "code",
   "execution_count": 6,
   "id": "931d7b38",
   "metadata": {},
   "outputs": [],
   "source": [
    "label_dict = {\n",
    "    0: 'Bundle branch block',\n",
    "    1: 'Cardiomyopathy',\n",
    "    2: 'Dysrhythmia',\n",
    "    3: 'Healthy control',\n",
    "    4: 'Heart failure (NYHA 2)',\n",
    "    5: 'Heart failure (NYHA 3)',\n",
    "    6: 'Heart failure (NYHA 4)',\n",
    "    7: 'Hypertrophy',\n",
    "    8: 'Myocardial infarction',\n",
    "    9: 'Myocarditis',\n",
    "    10: 'Palpitation',\n",
    "    11: 'Stable angina',\n",
    "    12: 'Unstable angina',\n",
    "    13: 'Valvular heart disease',\n",
    "}"
   ]
  },
  {
   "cell_type": "code",
   "execution_count": 9,
   "id": "52b42ce1",
   "metadata": {},
   "outputs": [],
   "source": [
    "import pickle"
   ]
  },
  {
   "cell_type": "code",
   "execution_count": 22,
   "id": "17be2376",
   "metadata": {},
   "outputs": [],
   "source": [
    "# Instantiate the Flask app\n",
    "app = Flask(__name__)\n",
    "\n",
    "@app.route('/')\n",
    "def index():\n",
    "    patients = test_data['Participant'].unique().tolist()\n",
    "    models = ['CNN', 'CNN-LSTM', 'Random Forest']  # Model names\n",
    "    return render_template('index.html', patients=patients, models=models)\n",
    "\n",
    "@app.route('/predict', methods=['POST'])\n",
    "def predict():\n",
    "    patient = request.form['patient']\n",
    "    model_name = request.form['model']\n",
    "    \n",
    "    # Filter test data for the selected patient\n",
    "    patient_data = test_data[test_data['Participant'] == patient].drop(['Participant', 'Label'], axis=1)\n",
    "    \n",
    "    if model_name == 'CNN':\n",
    "        # Preprocess data for CNN model\n",
    "        X = np.array(patient_data).reshape(len(patient_data), patient_data.shape[1], 1)\n",
    "        prediction_proba = cnn_model.predict(X)\n",
    "        prediction = np.argmax(prediction_proba, axis=1)\n",
    "    elif model_name == 'CNN-LSTM':\n",
    "        # Preprocess data for CNN-LSTM model\n",
    "        X = np.array(patient_data).reshape(len(patient_data), patient_data.shape[1], 1)\n",
    "        prediction_proba = cnn_lstm_model.predict(X)\n",
    "        prediction = np.argmax(prediction_proba, axis=1)\n",
    "    elif model_name == 'Random Forest':\n",
    "        file = open('model_rf.pkl', 'rb')\n",
    "        model = pickle.load(file)\n",
    "        X = np.array(patient_data)\n",
    "        prediction= model.predict(X)\n",
    "        \n",
    "    \n",
    "    prediction_class =label_dict[prediction[0]]  # Assuming prediction is a single value\n",
    "    \n",
    "    patients = test_data['Participant'].unique().tolist()\n",
    "    \n",
    "    return render_template('index.html', patients=patients, prediction=prediction_class, patient=patient, model=model_name)\n"
   ]
  },
  {
   "cell_type": "code",
   "execution_count": 23,
   "id": "2f7e660b",
   "metadata": {},
   "outputs": [
    {
     "name": "stdout",
     "output_type": "stream",
     "text": [
      " * Serving Flask app '__main__'\n",
      " * Debug mode: on\n"
     ]
    },
    {
     "name": "stderr",
     "output_type": "stream",
     "text": [
      "WARNING: This is a development server. Do not use it in a production deployment. Use a production WSGI server instead.\n",
      " * Running on http://127.0.0.1:5000\n",
      "Press CTRL+C to quit\n",
      " * Restarting with watchdog (windowsapi)\n"
     ]
    },
    {
     "ename": "SystemExit",
     "evalue": "1",
     "output_type": "error",
     "traceback": [
      "An exception has occurred, use %tb to see the full traceback.\n",
      "\u001b[1;31mSystemExit\u001b[0m\u001b[1;31m:\u001b[0m 1\n"
     ]
    }
   ],
   "source": [
    "# Run the Flask app\n",
    "if __name__ == '__main__':\n",
    "    app.run(debug=True)\n",
    "\n"
   ]
  },
  {
   "cell_type": "code",
   "execution_count": null,
   "id": "297ff394",
   "metadata": {},
   "outputs": [],
   "source": []
  }
 ],
 "metadata": {
  "kernelspec": {
   "display_name": "Python 3 (ipykernel)",
   "language": "python",
   "name": "python3"
  },
  "language_info": {
   "codemirror_mode": {
    "name": "ipython",
    "version": 3
   },
   "file_extension": ".py",
   "mimetype": "text/x-python",
   "name": "python",
   "nbconvert_exporter": "python",
   "pygments_lexer": "ipython3",
   "version": "3.11.5"
  }
 },
 "nbformat": 4,
 "nbformat_minor": 5
}
